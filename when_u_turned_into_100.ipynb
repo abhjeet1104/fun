{
  "nbformat": 4,
  "nbformat_minor": 0,
  "metadata": {
    "colab": {
      "provenance": []
    },
    "kernelspec": {
      "name": "python3",
      "display_name": "Python 3"
    },
    "language_info": {
      "name": "python"
    }
  },
  "cells": [
    {
      "cell_type": "code",
      "execution_count": 1,
      "metadata": {
        "colab": {
          "base_uri": "https://localhost:8080/"
        },
        "id": "mQ-8ZoLabqhk",
        "outputId": "0095807f-f588-4ba9-a3cd-38e7c3c26fe1"
      },
      "outputs": [
        {
          "output_type": "stream",
          "name": "stdout",
          "text": [
            "This Program returns the year you'll turn 100!\n",
            "\n",
            "Your Good name please \n",
            "abhijeet\n",
            "Hi abhijeet... Hope your doing Good!\n",
            "Enter your Age : 22\n",
            "You will turn 100 at year 2100 \n"
          ]
        }
      ],
      "source": [
        "print(\"This Program returns the year you'll turn 100!\")\n",
        "print(\"\\nYour Good name please \")\n",
        "ch=input()\n",
        "print(\"Hi {n}... Hope your doing Good!\".format(n=ch))\n",
        "a=int(input(\"Enter your Age : \"))\n",
        "y=2022+100-a\n",
        "print(\"You will turn 100 at year {} \".format(y))"
      ]
    },
    {
      "cell_type": "code",
      "source": [],
      "metadata": {
        "id": "ulcFoBS6bxXK"
      },
      "execution_count": null,
      "outputs": []
    }
  ]
}